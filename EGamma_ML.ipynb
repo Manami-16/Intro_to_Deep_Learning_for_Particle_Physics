{
 "cells": [
  {
   "cell_type": "markdown",
   "id": "eda0c27c",
   "metadata": {},
   "source": [
    "# Introduction to Deep Learning for Particle Physics - Part1"
   ]
  },
  {
   "cell_type": "markdown",
   "id": "c28b8783",
   "metadata": {},
   "source": [
    "# $e/\\gamma$ ECAL Shower Classification with ML"
   ]
  },
  {
   "cell_type": "markdown",
   "id": "cb8702cc",
   "metadata": {},
   "source": [
    "### Introduction"
   ]
  },
  {
   "cell_type": "markdown",
   "id": "6edb8d0e",
   "metadata": {},
   "source": [
    "<img src=\"./images/cms_overall.png\" alt=\"CMS Overview\" width=\"40%\" style=\"float:left\" />\n",
    "\n",
    "<img src=\"./images/cms_layout_transverse.png\" alt=\"CMS Transverse Layout\" width=\"55%\" style=\"float:right\" />\n",
    "\n",
    "<!-- ![CMS Overview](./images/cms_overall.png)\n",
    "![CMS Transverse Layout](./images/cms_layout_transverse.png) -->"
   ]
  },
  {
   "cell_type": "markdown",
   "id": "24c8e9dc",
   "metadata": {},
   "source": [
    "*Figure*: **[1]** Overview of the CMS detector (*left*) and **[2]** Transverse layout of the CMS detector (*right*)"
   ]
  },
  {
   "cell_type": "markdown",
   "id": "febff599",
   "metadata": {},
   "source": [
    "The Large Hadron Collider (LHC) at CERN smashes protons together at close to the speed of light. Some of the collision energy is turned into mass, creating new particles which are observed in the Compact Muon Solenoid (CMS) particle detector **[1]**. Different layers of the CMS detector **[2]** measure different particles and phenomena produced in the high-energy collision, which are later analyzed to reconstruct a picture of events at the heart of the collision. Electromagnetic calorimeter (ECAL) at the CMS detector measures electrons ($e$) and photons ($\\gamma$) from their energy deposits, called \"shower\", in the calorimeter. \n",
    "\n",
    "With the measurements from ECAL, combined with those from the previous layer of the detector, silicon tracker, physicists are able to identify and reconstruct the electrons and photons. However, with the information of ECAL shower only, it is not possible with the \"traditional\" method to identify the particle as electron or photon. \n",
    "\n",
    "In this project, we aim to distinguish electron vs. photon showers using Deep Learning algorithm, with a convolutional neural network (CNN) as a classifier. While the two are nearly indistinguishable in the ECAL, the electron shower is very slightly skewed along the φ direction due to its interaction with the B-field of the CMS solenoid. This effect, however, is very subtle and not easily discernible by eye. Thus, e/γ classification is a very stringent test of how sensitive CNN algorithms are to subtle variations in the data."
   ]
  },
  {
   "cell_type": "markdown",
   "id": "973dd5c4",
   "metadata": {},
   "source": [
    "### Overview of ECAL"
   ]
  },
  {
   "cell_type": "markdown",
   "id": "f21f7883",
   "metadata": {},
   "source": [
    "<img src=\"./images/ECAL_yz.png\" alt=\"ECAL y-z Plane View\" width=48% style=\"float:right\"/>\n",
    "\n",
    "<img src=\"./images/ECAL_overview.png\" alt=\"ECAL Overview\" width=42% style=\"float:left\"/>"
   ]
  },
  {
   "cell_type": "markdown",
   "id": "13a96e88",
   "metadata": {},
   "source": [
    "The CMS electromagnetic calorimeter (ECAL) is made up of 75,848 homogeneous lead tungstate ($PbWO_{4}$) crystals. When electrons and photons pass through the crystal, it \"scintillates\" and produces light in proportion to the particle's energy. The photodetectors, glued onto the back of each of the crystals, detect the scintillation light and convert it to an electrical signal that is amplified and sent for analysis. \n",
    "\n",
    "The crystals are arranged in a central barrel section with pseudorapidity coverage up to $\\eta$ = 1.479, closed by two endcaps extending the coverage up to $\\eta$ = 3.0. For extra spatial precision, the ECAL also contains Preshower detectors that sit in front of the endcaps. The cylindrical barrel consists of 61,200 crystals, arranged in a grid of 170 (pseudorapidity, $\\eta$) x 360 (azimuthal angle in the transverse plane, $\\phi$). Each crystal spans an angular area of 0.0174 x 0.0174. A single crystal is represented in the image data as a single pixel, with the energy deposited in the crystal corresponding to the intensity of that pixel.\n",
    "\n",
    "In this project, we will use ECAL shower data from the barrel section only. "
   ]
  },
  {
   "cell_type": "markdown",
   "id": "90aa863c",
   "metadata": {},
   "source": [
    "### Now, let's work with data!"
   ]
  },
  {
   "cell_type": "markdown",
   "id": "d542f25d",
   "metadata": {},
   "source": [
    "We will use single electron and single photon particle guns, generated with uniform pT = (15, 100) GeV, |$\\eta$| < 1.4, and -π < $\\phi$ < π. These are simulated through the full 2017 CMS detector, accounting for the effects of the preceding tracker layers on the e/γ shower. Energy deposits from simulated pileup are overlaid as well. \n",
    "1. **Electron** data: *'SingleElectronPt15To100_pythia8_PU2017_MINIAODSIM.**'*\n",
    "2. **Photon** data: *'SinglePhotonPt15To100_pythia8_PU2017_MINIAODSIM.**'*"
   ]
  },
  {
   "cell_type": "code",
   "execution_count": 1,
   "id": "aa7f4261",
   "metadata": {},
   "outputs": [
    {
     "name": "stdout",
     "output_type": "stream",
     "text": [
      "Welcome to JupyROOT 6.22/06\n"
     ]
    }
   ],
   "source": [
    "import numpy as np\n",
    "np.random.seed(0)\n",
    "import matplotlib.pyplot as plt\n",
    "from matplotlib.colors import LogNorm\n",
    "import pyarrow as pa\n",
    "import pyarrow.parquet as pq\n",
    "import glob\n",
    "from sklearn.preprocessing import StandardScaler\n",
    "from tqdm.notebook import tqdm\n",
    "from utils import *"
   ]
  },
  {
   "cell_type": "code",
   "execution_count": 2,
   "id": "51004792",
   "metadata": {},
   "outputs": [
    {
     "name": "stdout",
     "output_type": "stream",
     "text": [
      "[44210, 44450, 44004, 44466, 44190, 44216, 44328, 44456] [76764, 77106, 77043, 76788, 76922, 76877, 76881, 77143]\n"
     ]
    }
   ],
   "source": [
    "# Import data\n",
    "\n",
    "# electron data\n",
    "elec = glob.glob('./data/SingleElectronPt15To100_pythia8_PU2017_MINIAODSIM.parquet.[1-8]')\n",
    "elec = [pq.ParquetFile(i) for i in elec]\n",
    "\n",
    "nEntries_elec = [f.num_row_groups for f in elec] # total event number in the electron data files\n",
    "\n",
    "# photon data\n",
    "pho = glob.glob('./data/SinglePhotonPt15To100_pythia8_PU2017_MINIAODSIM.parquet.[1-8]')\n",
    "pho = [pq.ParquetFile(i) for i in pho]\n",
    "\n",
    "nEntries_pho = [f.num_row_groups for f in pho] # total event number in the photon data files\n",
    "    \n",
    "print(nEntries_elec, nEntries_pho)"
   ]
  },
  {
   "cell_type": "markdown",
   "id": "0edb65c1",
   "metadata": {},
   "source": [
    "### Sneak peek into the physics variables in the data\n",
    "### 1. Overview of features\n",
    "#### Plot histograms of features"
   ]
  },
  {
   "cell_type": "code",
   "execution_count": 3,
   "id": "59e316c6",
   "metadata": {},
   "outputs": [
    {
     "name": "stdout",
     "output_type": "stream",
     "text": [
      "odict_keys(['idx', 'pt', 'pho_id', 'pi0_p4', 'm', 'Xtz', 'ieta', 'iphi', 'pho_p4', 'X', 'dR'])\n",
      "odict_keys(['idx', 'pt', 'pho_id', 'pi0_p4', 'm', 'Xtz', 'ieta', 'iphi', 'pho_p4', 'X', 'dR'])\n"
     ]
    }
   ],
   "source": [
    "i = 0\n",
    "d = elec[0].read_row_group(i).to_pydict() # python dict of entry i\n",
    "print(d.keys())\n",
    "\n",
    "d = pho[0].read_row_group(i).to_pydict() # python dict of entry i\n",
    "print(d.keys())"
   ]
  },
  {
   "cell_type": "code",
   "execution_count": 4,
   "id": "e5006c36",
   "metadata": {
    "scrolled": true
   },
   "outputs": [
    {
     "data": {
      "application/vnd.jupyter.widget-view+json": {
       "model_id": "afaa96610d604356902258e8107423a8",
       "version_major": 2,
       "version_minor": 0
      },
      "text/plain": [
       "  0%|          | 0/8 [00:00<?, ?it/s]"
      ]
     },
     "metadata": {},
     "output_type": "display_data"
    },
    {
     "data": {
      "application/vnd.jupyter.widget-view+json": {
       "model_id": "8a8b531f0a73423ab92a2861f894043a",
       "version_major": 2,
       "version_minor": 0
      },
      "text/plain": [
       "  0%|          | 0/40000 [00:00<?, ?it/s]"
      ]
     },
     "metadata": {},
     "output_type": "display_data"
    },
    {
     "data": {
      "application/vnd.jupyter.widget-view+json": {
       "model_id": "db63450162d941bfbaeefe7620d6f894",
       "version_major": 2,
       "version_minor": 0
      },
      "text/plain": [
       "  0%|          | 0/40000 [00:00<?, ?it/s]"
      ]
     },
     "metadata": {},
     "output_type": "display_data"
    },
    {
     "data": {
      "application/vnd.jupyter.widget-view+json": {
       "model_id": "eed2116cc6ba4f0f9032e46f2437f235",
       "version_major": 2,
       "version_minor": 0
      },
      "text/plain": [
       "  0%|          | 0/40000 [00:00<?, ?it/s]"
      ]
     },
     "metadata": {},
     "output_type": "display_data"
    },
    {
     "data": {
      "application/vnd.jupyter.widget-view+json": {
       "model_id": "f5e069666f4b45d4b77ae79ec87dcc98",
       "version_major": 2,
       "version_minor": 0
      },
      "text/plain": [
       "  0%|          | 0/40000 [00:00<?, ?it/s]"
      ]
     },
     "metadata": {},
     "output_type": "display_data"
    },
    {
     "data": {
      "application/vnd.jupyter.widget-view+json": {
       "model_id": "66ed080e37844d1c9963a3277e8544d9",
       "version_major": 2,
       "version_minor": 0
      },
      "text/plain": [
       "  0%|          | 0/40000 [00:00<?, ?it/s]"
      ]
     },
     "metadata": {},
     "output_type": "display_data"
    },
    {
     "data": {
      "application/vnd.jupyter.widget-view+json": {
       "model_id": "b7fb94e92dc74b128cbba99b50ed38c2",
       "version_major": 2,
       "version_minor": 0
      },
      "text/plain": [
       "  0%|          | 0/40000 [00:00<?, ?it/s]"
      ]
     },
     "metadata": {},
     "output_type": "display_data"
    },
    {
     "data": {
      "application/vnd.jupyter.widget-view+json": {
       "model_id": "17b018b2b92446e4b988fbaf27009040",
       "version_major": 2,
       "version_minor": 0
      },
      "text/plain": [
       "  0%|          | 0/40000 [00:00<?, ?it/s]"
      ]
     },
     "metadata": {},
     "output_type": "display_data"
    },
    {
     "data": {
      "application/vnd.jupyter.widget-view+json": {
       "model_id": "edbb0be640124cbcabe4cd6026223bdb",
       "version_major": 2,
       "version_minor": 0
      },
      "text/plain": [
       "  0%|          | 0/40000 [00:00<?, ?it/s]"
      ]
     },
     "metadata": {},
     "output_type": "display_data"
    }
   ],
   "source": [
    "elec_ids = []\n",
    "pho_ids = []\n",
    "energies = []\n",
    "nEles = 40_000\n",
    "\n",
    "for i in tqdm(range(len(elec)), total=len(elec)):\n",
    "    for k in tqdm(range(nEles), total=nEles):\n",
    "        d = elec[i].read_row_group(k).to_pydict() # python dict of entry i\n",
    "        dd = pho[i].read_row_group(k).to_pydict()\n",
    "        elec_ids.append(d['pho_id'][0])\n",
    "        pho_ids.append(dd['pho_id'][0])\n",
    "\n",
    "elec_ids = np.array(elec_ids)\n",
    "pho_ids = np.array(pho_ids)"
   ]
  },
  {
   "cell_type": "code",
   "execution_count": 5,
   "id": "ed4f3c11",
   "metadata": {},
   "outputs": [],
   "source": [
    "# scale the data\n",
    "scaler = StandardScaler()\n",
    "elec_scaler = scaler.fit(elec_ids)\n",
    "scaled_elec_ids = elec_scaler.transform(elec_ids)\n",
    "pho_scaler = scaler.fit(pho_ids)\n",
    "scaled_pho_ids = pho_scaler.transform(pho_ids)"
   ]
  },
  {
   "cell_type": "code",
   "execution_count": 6,
   "id": "340ab7db",
   "metadata": {},
   "outputs": [
    {
     "data": {
      "text/plain": [
       "\"\\nelec_ids2 = {'r9': np.array([item[0] for item in scaled_elec_ids]),\\n          'sieie': np.array([item[1] for item in scaled_elec_ids]),\\n          'phoIso':np.array([item[2] for item in scaled_elec_ids]),\\n          'chgIso':np.array([item[3] for item in scaled_elec_ids]),\\n          'chgIsoWrongVtx':np.array([item[4] for item in scaled_elec_ids]),\\n          'Eraw':np.array([item[5] for item in scaled_elec_ids]),\\n          'phiWidth':np.array([item[6] for item in scaled_elec_ids]),\\n          'etaWidth':np.array([item[7] for item in scaled_elec_ids]),\\n          'scEta':np.array([item[8] for item in scaled_elec_ids]),\\n          'sieip':np.array([item[9] for item in scaled_elec_ids]),\\n          's4':np.array([item[10] for item in scaled_elec_ids])}\\n\\npho_ids2 = {'r9': np.array([item[0] for item in scaled_pho_ids]),\\n          'sieie': np.array([item[1] for item in scaled_pho_ids]),\\n          'phoIso':np.array([item[2] for item in scaled_pho_ids]),\\n          'chgIso':np.array([item[3] for item in scaled_pho_ids]),\\n          'chgIsoWrongVtx':np.array([item[4] for item in scaled_pho_ids]),\\n          'Eraw':np.array([item[5] for item in scaled_pho_ids]), \\n          'phiWidth':np.array([item[6] for item in scaled_pho_ids]),\\n          'etaWidth':np.array([item[7] for item in scaled_pho_ids]),\\n          'scEta': np.array([item[8] for item in scaled_pho_ids]),\\n          'sieip': np.array([item[9] for item in scaled_pho_ids]),\\n          's4': np.array([item[10] for item in scaled_pho_ids])}\\n\\nfor k1,k2 in zip(elec_ids, elec_ids2):\\n    assert np.array_equal(elec_ids[k1], elec_ids2[k2])\\n    \\nfor k1,k2 in zip(pho_ids, pho_ids2):\\n    assert np.array_equal(pho_ids[k1], pho_ids2[k2])\\n\""
      ]
     },
     "execution_count": 6,
     "metadata": {},
     "output_type": "execute_result"
    }
   ],
   "source": [
    "pho_id_vars = ['r9',\n",
    "          'sieie',\n",
    "          'phoIso',\n",
    "          'chgIso',\n",
    "          'chgIsoWrongVtx',\n",
    "          'Eraw',\n",
    "          'phiWidth',\n",
    "          'etaWidth',\n",
    "          'scEta',\n",
    "          'sieip',\n",
    "          's4']\n",
    "assert len(pho_id_vars) == len(scaled_elec_ids[0])\n",
    "assert len(pho_id_vars) == len(scaled_pho_ids[0])\n",
    "elec_ids = {pho_id_vars[i]:np.array(scaled_elec_ids[:,i]) for i in range(len(pho_id_vars))}\n",
    "pho_ids = {pho_id_vars[i]:np.array(scaled_pho_ids[:,i]) for i in range(len(pho_id_vars))}\n"
   ]
  },
  {
   "cell_type": "code",
   "execution_count": 10,
   "id": "968540c0",
   "metadata": {
    "scrolled": false
   },
   "outputs": [
    {
     "data": {
      "image/png": "[encoded data removed]",
      "text/plain": [
       "<Figure size 432x288 with 1 Axes>"
      ]
     },
     "metadata": {
      "needs_background": "light"
     },
     "output_type": "display_data"
    },
    {
     "data": {
      "image/png": "[encoded data removed]",
      "text/plain": [
       "<Figure size 432x288 with 1 Axes>"
      ]
     },
     "metadata": {
      "needs_background": "light"
     },
     "output_type": "display_data"
    },
    {
     "data": {
      "image/png": "[encoded data removed]",
      "text/plain": [
       "<Figure size 432x288 with 1 Axes>"
      ]
     },
     "metadata": {
      "needs_background": "light"
     },
     "output_type": "display_data"
    },
    {
     "data": {
      "image/png": "[encoded data removed]",
      "text/plain": [
       "<Figure size 432x288 with 1 Axes>"
      ]
     },
     "metadata": {
      "needs_background": "light"
     },
     "output_type": "display_data"
    },
    {
     "data": {
      "image/png": "[encoded data removed]",
      "text/plain": [
       "<Figure size 432x288 with 1 Axes>"
      ]
     },
     "metadata": {
      "needs_background": "light"
     },
     "output_type": "display_data"
    },
    {
     "data": {
      "image/png": "[encoded data removed]",
      "text/plain": [
       "<Figure size 432x288 with 1 Axes>"
      ]
     },
     "metadata": {
      "needs_background": "light"
     },
     "output_type": "display_data"
    },
    {
     "data": {
      "image/png": "[encoded data removed]",
      "text/plain": [
       "<Figure size 432x288 with 1 Axes>"
      ]
     },
     "metadata": {
      "needs_background": "light"
     },
     "output_type": "display_data"
    },
    {
     "data": {
      "image/png": "[encoded data removed]",
      "text/plain": [
       "<Figure size 432x288 with 1 Axes>"
      ]
     },
     "metadata": {
      "needs_background": "light"
     },
     "output_type": "display_data"
    },
    {
     "data": {
      "image/png": "[encoded data removed]",
      "text/plain": [
       "<Figure size 432x288 with 1 Axes>"
      ]
     },
     "metadata": {
      "needs_background": "light"
     },
     "output_type": "display_data"
    },
    {
     "data": {
      "image/png": "[encoded data removed]",
      "text/plain": [
       "<Figure size 432x288 with 1 Axes>"
      ]
     },
     "metadata": {
      "needs_background": "light"
     },
     "output_type": "display_data"
    },
    {
     "data": {
      "image/png": "[encoded data removed]",
      "text/plain": [
       "<Figure size 432x288 with 1 Axes>"
      ]
     },
     "metadata": {
      "needs_background": "light"
     },
     "output_type": "display_data"
    }
   ],
   "source": [
    "# plot histograms of features\n",
    "for i in range(len(list(pho_ids.keys()))):    \n",
    "    pho_min_val, pho_max_val = min(pho_ids[pho_id_vars[i]]), max(pho_ids[pho_id_vars[i]])\n",
    "    elec_min_val, elec_max_val = min(elec_ids[pho_id_vars[i]]), max(elec_ids[pho_id_vars[i]])\n",
    "    \n",
    "    min_val = min(pho_min_val, elec_min_val)\n",
    "    max_val = max(pho_max_val, elec_max_val)\n",
    "    \n",
    "    plt.hist(pho_ids[pho_id_vars[i]], bins=np.linspace(min_val, max_val, 50), label='photon', histtype='step')\n",
    "    plt.hist(elec_ids[pho_id_vars[i]], bins=np.linspace(min_val, max_val, 50), label='electron', histtype='step')\n",
    "    plt.legend()\n",
    "    plt.title(pho_id_vars[i]) #plt.title(k)\n",
    "    plt.xlabel('scaled')\n",
    "    plt.savefig('./images/hist/' + pho_id_vars[i] + '.png')\n",
    "    \n",
    "    if pho_id_vars[i] in ['phiWidth', 'etaWidth']:\n",
    "        plt.yscale('linear')\n",
    "    else:\n",
    "        plt.yscale('log')\n",
    "    \n",
    "    plt.show()\n"
   ]
  },
  {
   "cell_type": "markdown",
   "id": "e2c13506",
   "metadata": {},
   "source": [
    "The histograms of electromagnetic shower features show that electrons and photons have differences in some features such as phiWidth vs etaWidth. \n",
    "\n",
    "Electrons and photons are almost identical in etaWidth, but not phiWidth. The difference is cased by the magnetic field applied in the z direction in the tracker. Since electrons are negatively charged, they experience force toward $\\phi$ direction. This difference appears on the 'phiWidth' and 'etaWidth'. "
   ]
  },
  {
   "cell_type": "markdown",
   "id": "255b42d3",
   "metadata": {},
   "source": [
    "### 2D ECAL Shower Image (32x32 window) for $e$ and $\\gamma$\n",
    "### Energy distribution in a shower for photons and electrons"
   ]
  },
  {
   "cell_type": "markdown",
   "id": "c69e6aa9",
   "metadata": {},
   "source": [
    "ECAL system uses its own coordinate (i$\\eta$, i$\\phi$), based on the ordering of the crystals with respect to some reference. As dataset for classification, we will use 2D images of $e$/$\\gamma$ shower constructed from 32 x 32 windows around the energy maximum of the particle shower. Before we feed the data to the classifier, let's plot and look at the shower image for electron events and photon events, respectively. "
   ]
  },
  {
   "cell_type": "code",
   "execution_count": 9,
   "id": "f5bf063b",
   "metadata": {},
   "outputs": [],
   "source": [
    "# Plotting function\n",
    "def plot_shower(img, title = '', doColorbar=True):\n",
    "    fig, ax = plt.subplots()\n",
    "    ax.imshow(np.zeros_like(img), cmap='hot_r', origin='lower')\n",
    "    im = ax.imshow(img, cmap='hot_r', origin='lower', norm=LogNorm(vmin = 1e-2, vmax = 1e+2))\n",
    "\n",
    "    if doColorbar:\n",
    "        ax.figure.colorbar(im, ax=ax, fraction=0.045, pad=0.05, label='Energy [GeV]')\n",
    "        plt.text(0.55, 0.8, r'$\\mathbf{CMS}\\;\\mathit{Simulation}$', fontsize=14, transform=plt.gcf().transFigure) # (x,y) for x,y in (0.,1.) of fig dims\n",
    "    else:\n",
    "        plt.text(0.48, 0.8, r'$\\mathbf{CMS}\\;\\mathit{Simulation}$', fontsize=14, transform=plt.gcf().transFigure) # (x,y) for x,y in (0.,1.) of fig dims\n",
    "\n",
    "    # labels\n",
    "    plt.xlabel(r\"$\\mathrm{i\\phi}$\", size=13)\n",
    "    plt.ylabel(r\"$\\mathrm{i\\eta}$\", size=13)\n",
    "    plt.title(title, fontsize=13)\n",
    "    plt.show()"
   ]
  },
  {
   "cell_type": "code",
   "execution_count": 10,
   "id": "d48784c2",
   "metadata": {},
   "outputs": [
    {
     "data": {
      "image/png": "[encoded data removed]",
      "text/plain": [
       "<Figure size 432x288 with 2 Axes>"
      ]
     },
     "metadata": {
      "needs_background": "light"
     },
     "output_type": "display_data"
    }
   ],
   "source": [
    "'''\n",
    "Plot 2D ECAL shower image from ELECTRON data (SINGLE event)\n",
    "'''\n",
    "\n",
    "# Randomly pick a single event (event number n) from one of the data above\n",
    "f = np.random.randint(0,len(elec))                # pick a file\n",
    "n = np.random.randint(1, high=nEntries_elec[f])   # pick event number\n",
    "\n",
    "# Get E/gamma shower image from the parquet table and convert it to 32x32 numpy array\n",
    "X_elec = elec[f].read_row_group(n, 'X').to_pydict()['X']\n",
    "X_elec = np.array(X_elec).reshape(-1,32)\n",
    "\n",
    "# Plot in log\n",
    "plot_shower(X_elec, title='Electron ECAL Shower (Event #: {})'.format(n))"
   ]
  },
  {
   "cell_type": "code",
   "execution_count": 11,
   "id": "65928b4d",
   "metadata": {},
   "outputs": [
    {
     "data": {
      "image/png": "[encoded data removed]",
      "text/plain": [
       "<Figure size 432x288 with 2 Axes>"
      ]
     },
     "metadata": {
      "needs_background": "light"
     },
     "output_type": "display_data"
    }
   ],
   "source": [
    "'''\n",
    "Plot 2D ECAL shower image from PHOTON data (SINGLE event)\n",
    "'''\n",
    "\n",
    "# Randomly pick a single event (event number n) from one of the data above\n",
    "f = np.random.randint(0,len(pho))                 # pick a file\n",
    "n = np.random.randint(1, high=nEntries_elec[f])   # pick event number\n",
    "\n",
    "# Get E/gamma shower image from the parquet table and convert it to 32x32 numpy array\n",
    "X_pho = pho[f].read_row_group(n, 'X').to_pydict()['X']\n",
    "X_pho = np.array(X_pho).reshape(-1,32)\n",
    "\n",
    "# Plot in log\n",
    "plot_shower(X_pho, title='Photon ECAL Shower (Event #: {})'.format(n))"
   ]
  },
  {
   "cell_type": "code",
   "execution_count": 12,
   "id": "9b4840c2",
   "metadata": {},
   "outputs": [
    {
     "data": {
      "image/png": "[encoded data removed]",
      "text/plain": [
       "<Figure size 432x288 with 2 Axes>"
      ]
     },
     "metadata": {
      "needs_background": "light"
     },
     "output_type": "display_data"
    }
   ],
   "source": [
    "'''\n",
    "Plot 2D ECAL shower image from ELECTRON data (Log Plot of 5k event AVG sum)\n",
    "'''\n",
    "\n",
    "shower = np.zeros([32,32])\n",
    "for n in range(0,5000):\n",
    "    # Get E/gamma shower image from the parquet table and convert it to 32x32 numpy array\n",
    "    X = elec[0].read_row_group(n, 'X')\n",
    "    X = X.to_pydict()['X']\n",
    "\n",
    "    X = np.array(X).reshape(-1,32)\n",
    "\n",
    "    shower += X\n",
    "\n",
    "# Plot the image in 2d\n",
    "shower /= 5000.\n",
    "plot_shower(shower, title='Electron ECAL Shower (5k events avg)'.format(n))"
   ]
  },
  {
   "cell_type": "code",
   "execution_count": 13,
   "id": "01a6cc76",
   "metadata": {},
   "outputs": [
    {
     "data": {
      "image/png": "[encoded data removed]",
      "text/plain": [
       "<Figure size 432x288 with 2 Axes>"
      ]
     },
     "metadata": {
      "needs_background": "light"
     },
     "output_type": "display_data"
    }
   ],
   "source": [
    "'''\n",
    "Plot 2D ECAL shower image from PHOTON data (Log Plot of 5k event AVG sum)\n",
    "'''\n",
    "\n",
    "shower = np.zeros([32,32])\n",
    "for n in range(0,5000):\n",
    "    # Get E/gamma shower image from the parquet table and convert it to 32x32 numpy array\n",
    "    X = pho[4].read_row_group(n, 'X')\n",
    "    X = X.to_pydict()['X']\n",
    "\n",
    "    X = np.array(X).reshape(-1,32)\n",
    "\n",
    "    shower += X\n",
    "\n",
    "# Plot the image in 2d\n",
    "shower /= 5000.\n",
    "plot_shower(shower, title='Photon ECAL Shower (5k events avg)'.format(n))"
   ]
  },
  {
   "cell_type": "markdown",
   "id": "ec4e7adf",
   "metadata": {},
   "source": [
    "### Flatten the images and plot a histogram of energy distributions "
   ]
  },
  {
   "cell_type": "code",
   "execution_count": 11,
   "id": "332e608e",
   "metadata": {
    "scrolled": true
   },
   "outputs": [
    {
     "name": "stdout",
     "output_type": "stream",
     "text": [
      "num_events : 40000\n"
     ]
    },
    {
     "data": {
      "application/vnd.jupyter.widget-view+json": {
       "model_id": "47ed5fe34f124046a7998ee3691d5d9e",
       "version_major": 2,
       "version_minor": 0
      },
      "text/plain": [
       "  0%|          | 0/8 [00:00<?, ?it/s]"
      ]
     },
     "metadata": {},
     "output_type": "display_data"
    },
    {
     "data": {
      "application/vnd.jupyter.widget-view+json": {
       "model_id": "d93c3136d69b49818ffba48efd2ba940",
       "version_major": 2,
       "version_minor": 0
      },
      "text/plain": [
       "  0%|          | 0/40000 [00:00<?, ?it/s]"
      ]
     },
     "metadata": {},
     "output_type": "display_data"
    },
    {
     "data": {
      "application/vnd.jupyter.widget-view+json": {
       "model_id": "98712a181c1c4e819492c5b8b27bde23",
       "version_major": 2,
       "version_minor": 0
      },
      "text/plain": [
       "  0%|          | 0/40000 [00:00<?, ?it/s]"
      ]
     },
     "metadata": {},
     "output_type": "display_data"
    },
    {
     "data": {
      "application/vnd.jupyter.widget-view+json": {
       "model_id": "aab0e954215d45f9b99d7f74a51b7c3b",
       "version_major": 2,
       "version_minor": 0
      },
      "text/plain": [
       "  0%|          | 0/40000 [00:00<?, ?it/s]"
      ]
     },
     "metadata": {},
     "output_type": "display_data"
    },
    {
     "data": {
      "application/vnd.jupyter.widget-view+json": {
       "model_id": "1703a06aaa164bfbbbe600bebf1d2f02",
       "version_major": 2,
       "version_minor": 0
      },
      "text/plain": [
       "  0%|          | 0/40000 [00:00<?, ?it/s]"
      ]
     },
     "metadata": {},
     "output_type": "display_data"
    },
    {
     "data": {
      "application/vnd.jupyter.widget-view+json": {
       "model_id": "bcd12125253a407ba8568e2fed6fd580",
       "version_major": 2,
       "version_minor": 0
      },
      "text/plain": [
       "  0%|          | 0/40000 [00:00<?, ?it/s]"
      ]
     },
     "metadata": {},
     "output_type": "display_data"
    },
    {
     "data": {
      "application/vnd.jupyter.widget-view+json": {
       "model_id": "bb545f0de43c4b31b31b70a9c193c83f",
       "version_major": 2,
       "version_minor": 0
      },
      "text/plain": [
       "  0%|          | 0/40000 [00:00<?, ?it/s]"
      ]
     },
     "metadata": {},
     "output_type": "display_data"
    },
    {
     "data": {
      "application/vnd.jupyter.widget-view+json": {
       "model_id": "6dc1c067cf204cea8d9eda16a3c5e646",
       "version_major": 2,
       "version_minor": 0
      },
      "text/plain": [
       "  0%|          | 0/40000 [00:00<?, ?it/s]"
      ]
     },
     "metadata": {},
     "output_type": "display_data"
    },
    {
     "data": {
      "application/vnd.jupyter.widget-view+json": {
       "model_id": "741e4bf7bd754d37bb47a01206503923",
       "version_major": 2,
       "version_minor": 0
      },
      "text/plain": [
       "  0%|          | 0/40000 [00:00<?, ?it/s]"
      ]
     },
     "metadata": {},
     "output_type": "display_data"
    }
   ],
   "source": [
    "# plot energy \n",
    "# pick num events \n",
    "num_events = 40_000\n",
    "print(f'num_events : {num_events}')\n",
    "X_elec = []\n",
    "X_pho = []\n",
    "\n",
    "for i in tqdm(range(len(elec)), total=len(elec)):\n",
    "    for k in tqdm(range(num_events), total=num_events):\n",
    "        X_elec_single_data = np.array(elec[i].read_row_group(k, 'X').to_pydict()['X']).reshape(-1, 32).flatten()\n",
    "        X_elec.append(X_elec_single_data)\n",
    "        X_pho_single_data = np.array(pho[i].read_row_group(k, 'X').to_pydict()['X']).reshape(-1, 32).flatten()\n",
    "        X_pho.append(X_pho_single_data)"
   ]
  },
  {
   "cell_type": "code",
   "execution_count": 12,
   "id": "cf9fc68b",
   "metadata": {},
   "outputs": [
    {
     "name": "stdout",
     "output_type": "stream",
     "text": [
      "min 0.00, max 141.92, var 2.43, mean 0.07\n",
      "Most of the data is zero, which will not give a meaning of a histogram.\n",
      "To observe how energies are distributed in shower, I am going to remove empty pixcels.\n"
     ]
    }
   ],
   "source": [
    "X_elec = np.array(X_elec).flatten()\n",
    "X_pho = np.array(X_pho).flatten()\n",
    "print('min {:.2f}, max {:.2f}, var {:.2f}, mean {:.2f}'.format(min(X_elec), max(X_elec), np.var(X_elec), np.mean(X_elec)))\n",
    "print('Most of the data is zero, which will not give a meaning of a histogram.')\n",
    "print('To observe how energies are distributed in shower, I am going to remove empty pixcels.')"
   ]
  },
  {
   "cell_type": "code",
   "execution_count": 13,
   "id": "28abbb3c",
   "metadata": {},
   "outputs": [
    {
     "name": "stdout",
     "output_type": "stream",
     "text": [
      "96.51 % of data is zero\n"
     ]
    }
   ],
   "source": [
    "i = 0\n",
    "for energy in X_elec:\n",
    "    if energy == 0.0:\n",
    "        i += 1\n",
    "print('{:.2f} % of data is zero'.format(100 * i / X_elec.shape[0]))"
   ]
  },
  {
   "cell_type": "code",
   "execution_count": 14,
   "id": "5cf1d865",
   "metadata": {},
   "outputs": [
    {
     "name": "stdout",
     "output_type": "stream",
     "text": [
      "min 0.000, max 141.915, var 65.386, mean 2.141\n",
      "(11421590,) (10174722,)\n"
     ]
    }
   ],
   "source": [
    "# remove empty energies\n",
    "X_elec = X_elec[X_elec != 0]\n",
    "X_pho = X_pho[X_pho != 0]\n",
    "print('min {:.3f}, max {:.3f}, var {:.3f}, mean {:.3f}'.format(min(X_elec), max(X_elec), np.var(X_elec), np.mean(X_elec)))\n",
    "\n",
    "# data_size = 300_000\n",
    "# X_elec = X_elec[:data_size]\n",
    "# X_elec = X_elec[X_elec < 50]\n",
    "# X_pho = X_pho[:data_size]\n",
    "\n",
    "print(X_elec.shape, X_pho.shape)"
   ]
  },
  {
   "cell_type": "code",
   "execution_count": 15,
   "id": "496aed13",
   "metadata": {},
   "outputs": [
    {
     "name": "stdout",
     "output_type": "stream",
     "text": [
      "0 10.227525308496464\n"
     ]
    }
   ],
   "source": [
    "## get bin range\n",
    "mean = np.mean(X_elec)\n",
    "var = np.var(X_elec)\n",
    "std = np.sqrt(var)\n",
    "min_range = mean - std\n",
    "max_range = mean + std\n",
    "if min_range < 0:\n",
    "    min_range = 0\n",
    "print(min_range, max_range)"
   ]
  },
  {
   "cell_type": "code",
   "execution_count": 16,
   "id": "56ebb232",
   "metadata": {},
   "outputs": [
    {
     "data": {
      "image/png": "[encoded data removed]",
      "text/plain": [
       "<Figure size 432x288 with 1 Axes>"
      ]
     },
     "metadata": {
      "needs_background": "light"
     },
     "output_type": "display_data"
    }
   ],
   "source": [
    "plt.hist(X_elec, bins=np.linspace(0, 150), histtype='step', label='electron', linewidth=3)\n",
    "plt.hist(X_pho, bins=np.linspace(0, 150), histtype='step', label='photon', linewidth=3)\n",
    "plt.legend()\n",
    "plt.title('Energy Distribution in electromagnetic shower')\n",
    "plt.xlabel('GeV')\n",
    "plt.yscale('log')\n",
    "plt.ylim(1, (50)*10**6)\n",
    "plt.savefig('./images/hist/' + 'energy_deposits.png')\n",
    "plt.show()"
   ]
  },
  {
   "cell_type": "code",
   "execution_count": null,
   "id": "059ec248",
   "metadata": {},
   "outputs": [],
   "source": []
  },
  {
   "cell_type": "markdown",
   "id": "af788a7d",
   "metadata": {},
   "source": [
    "## Determine if Neural Networks can classify particles\n",
    "\n",
    "Up to here, we have observed the followings:\n",
    "1. Compared to etawidth, electrons and photons are not identical on the phiwidth histogram. <br />\n",
    "    It is because electrons experience a magnetic field in the z-direction and are bended to $\\phi$ direction.\n",
    "    Therefore, the electrons enter the tracker with an angle while photons don't as they do not have charge.\n",
    "    This difference appears on the phiwidth histogram. \n",
    "    \n",
    "2. The histogram on energy deposits shows that photons have a harder tail (more energy). <br />\n",
    "    Unlike photons, the electrons lose energy while interacting with a tracker. So, it is natural that photons have more energy than electrons, and it's shown on the histogram. \n",
    "\n",
    "As we have two datasets (shower features and energy deposit), we will, first, determine which dataset is suitable for a model to train on and investigate which architecture yields the best results by comparing the results from ANN, CNN, and ResNet. \n",
    "\n",
    "To start, we will configure three models:\n",
    "1. Artificial NN (ANN) on features \n",
    "    - Because of the no / slight differences in features between photons and electrons, we would expect that the model cannot classify two particles well. \n",
    "2. ANN on energy deposits\n",
    "    - Given that the electrons produce more energy than photons, we expect the model to classify the particles based on the energy. \n",
    "3. CNN on energy deposits\n",
    "    - In general, CNN is considered a more powerful ANN architecture in terms of image analysis and classifications as CNN is a \"feed-forward\" network and spatial architecture while ANN is not. Similarly, we would expect CNN gives us better results contrasting to 2. \n",
    "    \n",
    "    - We will also determine how the shallowness of the model affects the model performance by comparing two different deepness of the model. \n",
    "    \n",
    "4. ResNet on energy deposits\n",
    "    - ResNet is a shortcut version of CNN and overcomes a downside of CNN (vanishing gradients). It is powerful for image classifications, so we  expect that ResNet classifies better than CNN. \n",
    "    - Similar to CNN experiments, we will train the model only on energy deposits and examine how the number of layers influences the model performance. "
   ]
  },
  {
   "cell_type": "code",
   "execution_count": null,
   "id": "7a7a0956",
   "metadata": {},
   "outputs": [],
   "source": []
  }
 ],
 "metadata": {
  "kernelspec": {
   "display_name": "Python 3",
   "language": "python",
   "name": "python3"
  },
  "language_info": {
   "codemirror_mode": {
    "name": "ipython",
    "version": 3
   },
   "file_extension": ".py",
   "mimetype": "text/x-python",
   "name": "python",
   "nbconvert_exporter": "python",
   "pygments_lexer": "ipython3",
   "version": "3.6.13"
  }
 },
 "nbformat": 4,
 "nbformat_minor": 5
}
